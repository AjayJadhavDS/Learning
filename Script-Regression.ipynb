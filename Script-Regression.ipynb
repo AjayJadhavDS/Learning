{
 "cells": [
  {
   "cell_type": "code",
   "execution_count": 1,
   "metadata": {},
   "outputs": [],
   "source": [
    "import pandas as pd\n",
    "import matplotlib.pyplot as plt\n",
    "%matplotlib inline\n",
    "\n",
    "df = pd.read_csv(\"C:/Users/ajadhav/Downloads/Total_Data/Total_Data.csv\")"
   ]
  },
  {
   "cell_type": "code",
   "execution_count": 2,
   "metadata": {},
   "outputs": [
    {
     "data": {
      "text/html": [
       "<div>\n",
       "<style scoped>\n",
       "    .dataframe tbody tr th:only-of-type {\n",
       "        vertical-align: middle;\n",
       "    }\n",
       "\n",
       "    .dataframe tbody tr th {\n",
       "        vertical-align: top;\n",
       "    }\n",
       "\n",
       "    .dataframe thead th {\n",
       "        text-align: right;\n",
       "    }\n",
       "</style>\n",
       "<table border=\"1\" class=\"dataframe\">\n",
       "  <thead>\n",
       "    <tr style=\"text-align: right;\">\n",
       "      <th></th>\n",
       "      <th>Host</th>\n",
       "      <th>Date</th>\n",
       "      <th>CPU1_Temp</th>\n",
       "      <th>BMC_Health_Status</th>\n",
       "      <th>Memory_Usage</th>\n",
       "      <th>Available_Memory</th>\n",
       "      <th>Total_Memory</th>\n",
       "      <th>CPU_Health</th>\n",
       "      <th>CPU_Usage</th>\n",
       "      <th>FAN_1_Health</th>\n",
       "      <th>...</th>\n",
       "      <th>FAN_1_Speed</th>\n",
       "      <th>FAN_2_Speed</th>\n",
       "      <th>FAN_3_Speed</th>\n",
       "      <th>FAN_4_Speed</th>\n",
       "      <th>Memory_Health_Status</th>\n",
       "      <th>Power_State</th>\n",
       "      <th>Power_Available_Watts</th>\n",
       "      <th>Power_Capacity_Watts</th>\n",
       "      <th>Power_Requested_Watts</th>\n",
       "      <th>Power_Usage_Watts</th>\n",
       "    </tr>\n",
       "  </thead>\n",
       "  <tbody>\n",
       "    <tr>\n",
       "      <td>0</td>\n",
       "      <td>10.101.1.2</td>\n",
       "      <td>2019-08-14:11:59:00</td>\n",
       "      <td>74.0</td>\n",
       "      <td>OK</td>\n",
       "      <td>66.212</td>\n",
       "      <td>125.696</td>\n",
       "      <td>191.908</td>\n",
       "      <td>OK</td>\n",
       "      <td>0.796528</td>\n",
       "      <td>OK</td>\n",
       "      <td>...</td>\n",
       "      <td>11340.0</td>\n",
       "      <td>11340.0</td>\n",
       "      <td>11480.0</td>\n",
       "      <td>11480.0</td>\n",
       "      <td>OK</td>\n",
       "      <td>On</td>\n",
       "      <td>0.0</td>\n",
       "      <td>560.0</td>\n",
       "      <td>430.0</td>\n",
       "      <td>336.0</td>\n",
       "    </tr>\n",
       "    <tr>\n",
       "      <td>1</td>\n",
       "      <td>10.101.1.2</td>\n",
       "      <td>2019-08-14:11:58:00</td>\n",
       "      <td>75.0</td>\n",
       "      <td>OK</td>\n",
       "      <td>66.213</td>\n",
       "      <td>125.695</td>\n",
       "      <td>191.908</td>\n",
       "      <td>OK</td>\n",
       "      <td>0.785417</td>\n",
       "      <td>OK</td>\n",
       "      <td>...</td>\n",
       "      <td>11270.0</td>\n",
       "      <td>11270.0</td>\n",
       "      <td>11270.0</td>\n",
       "      <td>11270.0</td>\n",
       "      <td>OK</td>\n",
       "      <td>On</td>\n",
       "      <td>0.0</td>\n",
       "      <td>560.0</td>\n",
       "      <td>430.0</td>\n",
       "      <td>340.0</td>\n",
       "    </tr>\n",
       "    <tr>\n",
       "      <td>2</td>\n",
       "      <td>10.101.1.2</td>\n",
       "      <td>2019-08-14:11:57:00</td>\n",
       "      <td>75.0</td>\n",
       "      <td>OK</td>\n",
       "      <td>66.214</td>\n",
       "      <td>125.694</td>\n",
       "      <td>191.908</td>\n",
       "      <td>OK</td>\n",
       "      <td>0.754167</td>\n",
       "      <td>OK</td>\n",
       "      <td>...</td>\n",
       "      <td>10850.0</td>\n",
       "      <td>10850.0</td>\n",
       "      <td>10850.0</td>\n",
       "      <td>10920.0</td>\n",
       "      <td>OK</td>\n",
       "      <td>On</td>\n",
       "      <td>0.0</td>\n",
       "      <td>560.0</td>\n",
       "      <td>430.0</td>\n",
       "      <td>325.0</td>\n",
       "    </tr>\n",
       "    <tr>\n",
       "      <td>3</td>\n",
       "      <td>10.101.1.2</td>\n",
       "      <td>2019-08-14:11:56:00</td>\n",
       "      <td>76.0</td>\n",
       "      <td>OK</td>\n",
       "      <td>66.208</td>\n",
       "      <td>125.700</td>\n",
       "      <td>191.908</td>\n",
       "      <td>OK</td>\n",
       "      <td>0.772222</td>\n",
       "      <td>OK</td>\n",
       "      <td>...</td>\n",
       "      <td>10850.0</td>\n",
       "      <td>10920.0</td>\n",
       "      <td>10920.0</td>\n",
       "      <td>10920.0</td>\n",
       "      <td>OK</td>\n",
       "      <td>On</td>\n",
       "      <td>0.0</td>\n",
       "      <td>560.0</td>\n",
       "      <td>430.0</td>\n",
       "      <td>330.0</td>\n",
       "    </tr>\n",
       "    <tr>\n",
       "      <td>4</td>\n",
       "      <td>10.101.1.2</td>\n",
       "      <td>2019-08-14:11:55:00</td>\n",
       "      <td>74.0</td>\n",
       "      <td>OK</td>\n",
       "      <td>66.208</td>\n",
       "      <td>125.700</td>\n",
       "      <td>191.908</td>\n",
       "      <td>OK</td>\n",
       "      <td>0.772222</td>\n",
       "      <td>OK</td>\n",
       "      <td>...</td>\n",
       "      <td>10710.0</td>\n",
       "      <td>10850.0</td>\n",
       "      <td>10850.0</td>\n",
       "      <td>10920.0</td>\n",
       "      <td>OK</td>\n",
       "      <td>On</td>\n",
       "      <td>0.0</td>\n",
       "      <td>560.0</td>\n",
       "      <td>430.0</td>\n",
       "      <td>346.0</td>\n",
       "    </tr>\n",
       "  </tbody>\n",
       "</table>\n",
       "<p>5 rows × 23 columns</p>\n",
       "</div>"
      ],
      "text/plain": [
       "         Host                 Date  CPU1_Temp BMC_Health_Status  Memory_Usage  \\\n",
       "0  10.101.1.2  2019-08-14:11:59:00       74.0                OK        66.212   \n",
       "1  10.101.1.2  2019-08-14:11:58:00       75.0                OK        66.213   \n",
       "2  10.101.1.2  2019-08-14:11:57:00       75.0                OK        66.214   \n",
       "3  10.101.1.2  2019-08-14:11:56:00       76.0                OK        66.208   \n",
       "4  10.101.1.2  2019-08-14:11:55:00       74.0                OK        66.208   \n",
       "\n",
       "   Available_Memory  Total_Memory CPU_Health  CPU_Usage FAN_1_Health  ...  \\\n",
       "0           125.696       191.908         OK   0.796528           OK  ...   \n",
       "1           125.695       191.908         OK   0.785417           OK  ...   \n",
       "2           125.694       191.908         OK   0.754167           OK  ...   \n",
       "3           125.700       191.908         OK   0.772222           OK  ...   \n",
       "4           125.700       191.908         OK   0.772222           OK  ...   \n",
       "\n",
       "  FAN_1_Speed FAN_2_Speed FAN_3_Speed  FAN_4_Speed  Memory_Health_Status  \\\n",
       "0     11340.0     11340.0     11480.0      11480.0                    OK   \n",
       "1     11270.0     11270.0     11270.0      11270.0                    OK   \n",
       "2     10850.0     10850.0     10850.0      10920.0                    OK   \n",
       "3     10850.0     10920.0     10920.0      10920.0                    OK   \n",
       "4     10710.0     10850.0     10850.0      10920.0                    OK   \n",
       "\n",
       "   Power_State  Power_Available_Watts Power_Capacity_Watts  \\\n",
       "0           On                    0.0                560.0   \n",
       "1           On                    0.0                560.0   \n",
       "2           On                    0.0                560.0   \n",
       "3           On                    0.0                560.0   \n",
       "4           On                    0.0                560.0   \n",
       "\n",
       "  Power_Requested_Watts  Power_Usage_Watts  \n",
       "0                 430.0              336.0  \n",
       "1                 430.0              340.0  \n",
       "2                 430.0              325.0  \n",
       "3                 430.0              330.0  \n",
       "4                 430.0              346.0  \n",
       "\n",
       "[5 rows x 23 columns]"
      ]
     },
     "execution_count": 2,
     "metadata": {},
     "output_type": "execute_result"
    }
   ],
   "source": [
    "df.head()"
   ]
  },
  {
   "cell_type": "code",
   "execution_count": 3,
   "metadata": {},
   "outputs": [
    {
     "data": {
      "text/plain": [
       "Index(['Host', 'Date', 'CPU1_Temp', 'BMC_Health_Status', 'Memory_Usage',\n",
       "       'Available_Memory', 'Total_Memory', 'CPU_Health', 'CPU_Usage',\n",
       "       'FAN_1_Health', 'FAN_2_Health', 'FAN_3_Health', 'FAN_4_Health',\n",
       "       'FAN_1_Speed', 'FAN_2_Speed', 'FAN_3_Speed', 'FAN_4_Speed',\n",
       "       'Memory_Health_Status', 'Power_State', 'Power_Available_Watts',\n",
       "       'Power_Capacity_Watts', 'Power_Requested_Watts', 'Power_Usage_Watts'],\n",
       "      dtype='object')"
      ]
     },
     "execution_count": 3,
     "metadata": {},
     "output_type": "execute_result"
    }
   ],
   "source": [
    "df.columns"
   ]
  },
  {
   "cell_type": "code",
   "execution_count": 4,
   "metadata": {},
   "outputs": [
    {
     "data": {
      "text/plain": [
       "(192425, 23)"
      ]
     },
     "execution_count": 4,
     "metadata": {},
     "output_type": "execute_result"
    }
   ],
   "source": [
    "df.shape"
   ]
  },
  {
   "cell_type": "code",
   "execution_count": 5,
   "metadata": {},
   "outputs": [],
   "source": [
    "unsued_Columns = ['Host','CPU_Health','BMC_Health_Status','FAN_1_Health','FAN_2_Health','FAN_3_Health','FAN_4_Health','Memory_Health_Status','Power_State','Power_Available_Watts']\n",
    "df.drop(unsued_Columns, axis=1, inplace=True)"
   ]
  },
  {
   "cell_type": "code",
   "execution_count": 6,
   "metadata": {},
   "outputs": [],
   "source": [
    "df.Date = pd.to_datetime(df.Date,format='%Y-%m-%d:%H:%M:%S')"
   ]
  },
  {
   "cell_type": "code",
   "execution_count": 7,
   "metadata": {},
   "outputs": [
    {
     "data": {
      "text/plain": [
       "<matplotlib.axes._subplots.AxesSubplot at 0x1f88e7921c8>"
      ]
     },
     "execution_count": 7,
     "metadata": {},
     "output_type": "execute_result"
    },
    {
     "data": {
      "image/png": "[encoded data removed]",
      "text/plain": [
       "<Figure size 432x288 with 1 Axes>"
      ]
     },
     "metadata": {
      "needs_background": "light"
     },
     "output_type": "display_data"
    }
   ],
   "source": [
    "C=df[['Date','CPU1_Temp']]\n",
    "C.set_index('Date').plot()"
   ]
  },
  {
   "cell_type": "code",
   "execution_count": 8,
   "metadata": {},
   "outputs": [
    {
     "name": "stderr",
     "output_type": "stream",
     "text": [
      "C:\\Users\\ajadhav\\AppData\\Local\\Continuum\\anaconda3\\lib\\site-packages\\pandas\\core\\frame.py:4102: SettingWithCopyWarning: \n",
      "A value is trying to be set on a copy of a slice from a DataFrame\n",
      "\n",
      "See the caveats in the documentation: http://pandas.pydata.org/pandas-docs/stable/user_guide/indexing.html#returning-a-view-versus-a-copy\n",
      "  errors=errors,\n"
     ]
    },
    {
     "data": {
      "text/plain": [
       "<matplotlib.image.AxesImage at 0x1f88ed1cf08>"
      ]
     },
     "execution_count": 8,
     "metadata": {},
     "output_type": "execute_result"
    },
    {
     "data": {
      "image/png": "[encoded data removed]",
      "text/plain": [
       "<Figure size 1152x144 with 1 Axes>"
      ]
     },
     "metadata": {
      "needs_background": "light"
     },
     "output_type": "display_data"
    }
   ],
   "source": [
    "C.index = C.Date\n",
    "C.drop('Date',axis=1,inplace= True)\n",
    "C = C.T\n",
    "plt.matshow(C, interpolation=None, aspect='auto')"
   ]
  },
  {
   "cell_type": "code",
   "execution_count": 9,
   "metadata": {},
   "outputs": [],
   "source": [
    "df['Month'] = df.Date.dt.month\n",
    "df['Day'] = df.Date.dt.day\n",
    "df['Hour'] = df.Date.dt.hour\n",
    "#df.drop('Date',axis=1,inplace=True)"
   ]
  },
  {
   "cell_type": "code",
   "execution_count": 10,
   "metadata": {},
   "outputs": [],
   "source": [
    "df = df.fillna(method='ffill')"
   ]
  },
  {
   "cell_type": "code",
   "execution_count": 11,
   "metadata": {},
   "outputs": [],
   "source": [
    "from sklearn.model_selection import train_test_split\n",
    "\n",
    "X_train, X_test, y_train, y_test = train_test_split(df.drop('CPU1_Temp',axis=1), df.CPU1_Temp , test_size=0.33, random_state=42)"
   ]
  },
  {
   "cell_type": "code",
   "execution_count": 12,
   "metadata": {},
   "outputs": [],
   "source": [
    "test_dates = X_test.Date\n",
    "X_test.drop('Date',axis=1,inplace=True)\n",
    "X_train.drop('Date',axis=1,inplace=True)\n"
   ]
  },
  {
   "cell_type": "code",
   "execution_count": 13,
   "metadata": {},
   "outputs": [
    {
     "name": "stderr",
     "output_type": "stream",
     "text": [
      "C:\\Users\\ajadhav\\AppData\\Local\\Continuum\\anaconda3\\lib\\site-packages\\sklearn\\ensemble\\forest.py:245: FutureWarning: The default value of n_estimators will change from 10 in version 0.20 to 100 in 0.22.\n",
      "  \"10 in version 0.20 to 100 in 0.22.\", FutureWarning)\n"
     ]
    },
    {
     "data": {
      "text/plain": [
       "1.1863720545926841"
      ]
     },
     "execution_count": 13,
     "metadata": {},
     "output_type": "execute_result"
    }
   ],
   "source": [
    "#Random Forest\n",
    "from sklearn.ensemble import RandomForestRegressor\n",
    "rf = RandomForestRegressor()\n",
    "rf.fit(X_train,y_train)\n",
    "y_pred_rf = rf.predict(X_test)\n",
    "\n",
    "import numpy as np\n",
    "from sklearn.metrics import mean_squared_error\n",
    "np.sqrt(mean_squared_error(y_pred_rf, y_test))"
   ]
  },
  {
   "cell_type": "code",
   "execution_count": 14,
   "metadata": {},
   "outputs": [],
   "source": [
    "# #SVR\n",
    "# from sklearn.svm import SVR\n",
    "# clf = SVR(C=1.0, epsilon=0.2)\n",
    "# clf.fit(X_train,y_train)\n",
    "# y_pred_svm = clf.predict(X_test)\n",
    "# np.sqrt(mean_squared_error(y_pred_svm, y_test))\n"
   ]
  },
  {
   "cell_type": "code",
   "execution_count": 15,
   "metadata": {},
   "outputs": [
    {
     "data": {
      "text/plain": [
       "<matplotlib.axes._subplots.AxesSubplot at 0x1f8a7907588>"
      ]
     },
     "execution_count": 15,
     "metadata": {},
     "output_type": "execute_result"
    },
    {
     "data": {
      "image/png": "[encoded data removed]",
      "text/plain": [
       "<Figure size 432x288 with 1 Axes>"
      ]
     },
     "metadata": {
      "needs_background": "light"
     },
     "output_type": "display_data"
    }
   ],
   "source": [
    "OP = pd.DataFrame({'Actual':y_test,'Predicted':y_pred_rf})\n",
    "OP.index  = test_dates\n",
    "OP.iloc[:1000,:].plot()"
   ]
  },
  {
   "cell_type": "code",
   "execution_count": 16,
   "metadata": {},
   "outputs": [],
   "source": [
    "#XGB\n",
    "import xgboost\n",
    "\n",
    "model = xgboost.XGBRegressor(colsample_bytree=0.4,\n",
    "                 gamma=0,                 \n",
    "                 learning_rate=0.07,\n",
    "                 max_depth=3,\n",
    "                 min_child_weight=1.5,\n",
    "                 n_estimators=10000,                                                                    \n",
    "                 reg_alpha=0.75,\n",
    "                 reg_lambda=0.45,\n",
    "                 subsample=0.6,\n",
    "                 seed=42) "
   ]
  },
  {
   "cell_type": "code",
   "execution_count": 17,
   "metadata": {},
   "outputs": [
    {
     "data": {
      "text/plain": [
       "XGBRegressor(base_score=0.5, booster=None, colsample_bylevel=1,\n",
       "             colsample_bynode=1, colsample_bytree=0.4, gamma=0, gpu_id=-1,\n",
       "             importance_type='gain', interaction_constraints=None,\n",
       "             learning_rate=0.07, max_delta_step=0, max_depth=3,\n",
       "             min_child_weight=1.5, missing=nan, monotone_constraints=None,\n",
       "             n_estimators=10000, n_jobs=0, num_parallel_tree=1,\n",
       "             objective='reg:squarederror', random_state=42, reg_alpha=0.75,\n",
       "             reg_lambda=0.45, scale_pos_weight=1, seed=42, subsample=0.6,\n",
       "             tree_method=None, validate_parameters=False, verbosity=None)"
      ]
     },
     "execution_count": 17,
     "metadata": {},
     "output_type": "execute_result"
    }
   ],
   "source": [
    "model.fit(X_train,y_train)"
   ]
  },
  {
   "cell_type": "code",
   "execution_count": 18,
   "metadata": {},
   "outputs": [
    {
     "data": {
      "image/png": "[encoded data removed]",
      "text/plain": [
       "<Figure size 432x288 with 1 Axes>"
      ]
     },
     "metadata": {
      "needs_background": "light"
     },
     "output_type": "display_data"
    }
   ],
   "source": [
    "#Feature importance\n",
    "features = X_test.columns.values\n",
    "importances = model.feature_importances_\n",
    "indices = np.argsort(importances)\n",
    "\n",
    "plt.title('Feature Importances')\n",
    "plt.barh(range(len(indices)), importances[indices], color='b', align='center')\n",
    "plt.yticks(range(len(indices)), [features[i] for i in indices])\n",
    "plt.xlabel('Relative Importance')\n",
    "plt.show()"
   ]
  },
  {
   "cell_type": "code",
   "execution_count": 19,
   "metadata": {},
   "outputs": [],
   "source": [
    "y_pred = model.predict(X_test)"
   ]
  },
  {
   "cell_type": "code",
   "execution_count": 20,
   "metadata": {},
   "outputs": [
    {
     "data": {
      "text/plain": [
       "1.3024598752308476"
      ]
     },
     "execution_count": 20,
     "metadata": {},
     "output_type": "execute_result"
    }
   ],
   "source": [
    "import numpy as np\n",
    "from sklearn.metrics import mean_squared_error\n",
    "np.sqrt(mean_squared_error(y_pred, y_test))"
   ]
  },
  {
   "cell_type": "code",
   "execution_count": 21,
   "metadata": {},
   "outputs": [],
   "source": [
    "#for given input values lets check the prediction and compare it with actual value"
   ]
  },
  {
   "cell_type": "code",
   "execution_count": 22,
   "metadata": {},
   "outputs": [
    {
     "data": {
      "text/plain": [
       "Memory_Usage               72.142000\n",
       "Available_Memory          119.766000\n",
       "Total_Memory              191.908000\n",
       "CPU_Usage                   0.801528\n",
       "FAN_1_Speed              9800.000000\n",
       "FAN_2_Speed              9800.000000\n",
       "FAN_3_Speed              9800.000000\n",
       "FAN_4_Speed              9800.000000\n",
       "Power_Capacity_Watts      560.000000\n",
       "Power_Requested_Watts     430.000000\n",
       "Power_Usage_Watts         331.000000\n",
       "Month                       7.000000\n",
       "Day                         1.000000\n",
       "Hour                       14.000000\n",
       "Name: 53401, dtype: float64"
      ]
     },
     "execution_count": 22,
     "metadata": {},
     "output_type": "execute_result"
    }
   ],
   "source": [
    "X_test.iloc[0,:]"
   ]
  },
  {
   "cell_type": "code",
   "execution_count": 23,
   "metadata": {},
   "outputs": [
    {
     "data": {
      "text/plain": [
       "array([47.140553], dtype=float32)"
      ]
     },
     "execution_count": 23,
     "metadata": {},
     "output_type": "execute_result"
    }
   ],
   "source": [
    "model.predict(pd.DataFrame((X_test.iloc[2,:])).transpose())"
   ]
  },
  {
   "cell_type": "code",
   "execution_count": 24,
   "metadata": {},
   "outputs": [
    {
     "data": {
      "text/plain": [
       "47.0"
      ]
     },
     "execution_count": 24,
     "metadata": {},
     "output_type": "execute_result"
    }
   ],
   "source": [
    "y_test.values[2]"
   ]
  },
  {
   "cell_type": "code",
   "execution_count": 25,
   "metadata": {},
   "outputs": [],
   "source": [
    "#our predicted value comes out to 47.140553\n",
    "\n",
    "# and actual values was 47.0.\n",
    "\n",
    "# predictions are very good "
   ]
  },
  {
   "cell_type": "code",
   "execution_count": 26,
   "metadata": {},
   "outputs": [],
   "source": [
    "Memory_Usage  =             72.142000\n",
    "Available_Memory =          119.766000\n",
    "Total_Memory      =        191.908000\n",
    "CPU_Usage       =         0.801528\n",
    "FAN_1_Speed      =        9800.000000\n",
    "FAN_2_Speed       =       9800.000000\n",
    "FAN_3_Speed        =      9800.000000\n",
    "FAN_4_Speed         =     9800.000000\n",
    "Power_Capacity_Watts =     560.000000\n",
    "Power_Requested_Watts =    430.000000\n",
    "Power_Usage_Watts      =   331.000000\n",
    "Month                   =    7.000000\n",
    "Day                      =   1.000000\n",
    "Hour  =   14.000000"
   ]
  },
  {
   "cell_type": "code",
   "execution_count": 27,
   "metadata": {},
   "outputs": [],
   "source": [
    "testset = pd.DataFrame({'Memory_Usage':[Memory_Usage], 'Available_Memory':[Available_Memory], 'Total_Memory':[Total_Memory],\n",
    "              'CPU_Usage':[CPU_Usage],\n",
    "       'FAN_1_Speed':[FAN_1_Speed], 'FAN_2_Speed':[FAN_2_Speed], 'FAN_3_Speed':[FAN_3_Speed], \n",
    "              'FAN_4_Speed':[FAN_4_Speed],\n",
    "       'Power_Capacity_Watts':[Power_Capacity_Watts], 'Power_Requested_Watts':[Power_Requested_Watts], \n",
    "              'Power_Usage_Watts':[Power_Usage_Watts],\n",
    "       'Month':[Month], 'Day':[Day], 'Hour':[Hour]})"
   ]
  },
  {
   "cell_type": "code",
   "execution_count": 28,
   "metadata": {},
   "outputs": [
    {
     "data": {
      "text/plain": [
       "array([82.53873], dtype=float32)"
      ]
     },
     "execution_count": 28,
     "metadata": {},
     "output_type": "execute_result"
    }
   ],
   "source": [
    "model.predict(testset)"
   ]
  },
  {
   "cell_type": "code",
   "execution_count": null,
   "metadata": {},
   "outputs": [],
   "source": []
  },
  {
   "cell_type": "code",
   "execution_count": null,
   "metadata": {},
   "outputs": [],
   "source": []
  },
  {
   "cell_type": "code",
   "execution_count": null,
   "metadata": {},
   "outputs": [],
   "source": []
  }
 ],
 "metadata": {
  "kernelspec": {
   "display_name": "Python 3",
   "language": "python",
   "name": "python3"
  },
  "language_info": {
   "codemirror_mode": {
    "name": "ipython",
    "version": 3
   },
   "file_extension": ".py",
   "mimetype": "text/x-python",
   "name": "python",
   "nbconvert_exporter": "python",
   "pygments_lexer": "ipython3",
   "version": "3.7.4"
  }
 },
 "nbformat": 4,
 "nbformat_minor": 2
}
