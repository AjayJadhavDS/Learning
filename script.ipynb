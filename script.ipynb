{
 "cells": [
  {
   "cell_type": "code",
   "execution_count": 1,
   "metadata": {},
   "outputs": [],
   "source": [
    "import pandas as pd\n",
    "import matplotlib.pyplot as plt\n",
    "%matplotlib inline\n",
    "\n",
    "df = pd.read_csv(\"C:/Users/ajadhav/Downloads/Total_Data/Total_Data.csv\")"
   ]
  },
  {
   "cell_type": "code",
   "execution_count": 2,
   "metadata": {},
   "outputs": [
    {
     "data": {
      "text/html": [
       "<div>\n",
       "<style scoped>\n",
       "    .dataframe tbody tr th:only-of-type {\n",
       "        vertical-align: middle;\n",
       "    }\n",
       "\n",
       "    .dataframe tbody tr th {\n",
       "        vertical-align: top;\n",
       "    }\n",
       "\n",
       "    .dataframe thead th {\n",
       "        text-align: right;\n",
       "    }\n",
       "</style>\n",
       "<table border=\"1\" class=\"dataframe\">\n",
       "  <thead>\n",
       "    <tr style=\"text-align: right;\">\n",
       "      <th></th>\n",
       "      <th>Host</th>\n",
       "      <th>Date</th>\n",
       "      <th>CPU1_Temp</th>\n",
       "      <th>BMC_Health_Status</th>\n",
       "      <th>Memory_Usage</th>\n",
       "      <th>Available_Memory</th>\n",
       "      <th>Total_Memory</th>\n",
       "      <th>CPU_Health</th>\n",
       "      <th>CPU_Usage</th>\n",
       "      <th>FAN_1_Health</th>\n",
       "      <th>...</th>\n",
       "      <th>FAN_1_Speed</th>\n",
       "      <th>FAN_2_Speed</th>\n",
       "      <th>FAN_3_Speed</th>\n",
       "      <th>FAN_4_Speed</th>\n",
       "      <th>Memory_Health_Status</th>\n",
       "      <th>Power_State</th>\n",
       "      <th>Power_Available_Watts</th>\n",
       "      <th>Power_Capacity_Watts</th>\n",
       "      <th>Power_Requested_Watts</th>\n",
       "      <th>Power_Usage_Watts</th>\n",
       "    </tr>\n",
       "  </thead>\n",
       "  <tbody>\n",
       "    <tr>\n",
       "      <td>0</td>\n",
       "      <td>10.101.1.2</td>\n",
       "      <td>2019-08-14:11:59:00</td>\n",
       "      <td>74.0</td>\n",
       "      <td>OK</td>\n",
       "      <td>66.212</td>\n",
       "      <td>125.696</td>\n",
       "      <td>191.908</td>\n",
       "      <td>OK</td>\n",
       "      <td>0.796528</td>\n",
       "      <td>OK</td>\n",
       "      <td>...</td>\n",
       "      <td>11340.0</td>\n",
       "      <td>11340.0</td>\n",
       "      <td>11480.0</td>\n",
       "      <td>11480.0</td>\n",
       "      <td>OK</td>\n",
       "      <td>On</td>\n",
       "      <td>0.0</td>\n",
       "      <td>560.0</td>\n",
       "      <td>430.0</td>\n",
       "      <td>336.0</td>\n",
       "    </tr>\n",
       "    <tr>\n",
       "      <td>1</td>\n",
       "      <td>10.101.1.2</td>\n",
       "      <td>2019-08-14:11:58:00</td>\n",
       "      <td>75.0</td>\n",
       "      <td>OK</td>\n",
       "      <td>66.213</td>\n",
       "      <td>125.695</td>\n",
       "      <td>191.908</td>\n",
       "      <td>OK</td>\n",
       "      <td>0.785417</td>\n",
       "      <td>OK</td>\n",
       "      <td>...</td>\n",
       "      <td>11270.0</td>\n",
       "      <td>11270.0</td>\n",
       "      <td>11270.0</td>\n",
       "      <td>11270.0</td>\n",
       "      <td>OK</td>\n",
       "      <td>On</td>\n",
       "      <td>0.0</td>\n",
       "      <td>560.0</td>\n",
       "      <td>430.0</td>\n",
       "      <td>340.0</td>\n",
       "    </tr>\n",
       "    <tr>\n",
       "      <td>2</td>\n",
       "      <td>10.101.1.2</td>\n",
       "      <td>2019-08-14:11:57:00</td>\n",
       "      <td>75.0</td>\n",
       "      <td>OK</td>\n",
       "      <td>66.214</td>\n",
       "      <td>125.694</td>\n",
       "      <td>191.908</td>\n",
       "      <td>OK</td>\n",
       "      <td>0.754167</td>\n",
       "      <td>OK</td>\n",
       "      <td>...</td>\n",
       "      <td>10850.0</td>\n",
       "      <td>10850.0</td>\n",
       "      <td>10850.0</td>\n",
       "      <td>10920.0</td>\n",
       "      <td>OK</td>\n",
       "      <td>On</td>\n",
       "      <td>0.0</td>\n",
       "      <td>560.0</td>\n",
       "      <td>430.0</td>\n",
       "      <td>325.0</td>\n",
       "    </tr>\n",
       "    <tr>\n",
       "      <td>3</td>\n",
       "      <td>10.101.1.2</td>\n",
       "      <td>2019-08-14:11:56:00</td>\n",
       "      <td>76.0</td>\n",
       "      <td>OK</td>\n",
       "      <td>66.208</td>\n",
       "      <td>125.700</td>\n",
       "      <td>191.908</td>\n",
       "      <td>OK</td>\n",
       "      <td>0.772222</td>\n",
       "      <td>OK</td>\n",
       "      <td>...</td>\n",
       "      <td>10850.0</td>\n",
       "      <td>10920.0</td>\n",
       "      <td>10920.0</td>\n",
       "      <td>10920.0</td>\n",
       "      <td>OK</td>\n",
       "      <td>On</td>\n",
       "      <td>0.0</td>\n",
       "      <td>560.0</td>\n",
       "      <td>430.0</td>\n",
       "      <td>330.0</td>\n",
       "    </tr>\n",
       "    <tr>\n",
       "      <td>4</td>\n",
       "      <td>10.101.1.2</td>\n",
       "      <td>2019-08-14:11:55:00</td>\n",
       "      <td>74.0</td>\n",
       "      <td>OK</td>\n",
       "      <td>66.208</td>\n",
       "      <td>125.700</td>\n",
       "      <td>191.908</td>\n",
       "      <td>OK</td>\n",
       "      <td>0.772222</td>\n",
       "      <td>OK</td>\n",
       "      <td>...</td>\n",
       "      <td>10710.0</td>\n",
       "      <td>10850.0</td>\n",
       "      <td>10850.0</td>\n",
       "      <td>10920.0</td>\n",
       "      <td>OK</td>\n",
       "      <td>On</td>\n",
       "      <td>0.0</td>\n",
       "      <td>560.0</td>\n",
       "      <td>430.0</td>\n",
       "      <td>346.0</td>\n",
       "    </tr>\n",
       "  </tbody>\n",
       "</table>\n",
       "<p>5 rows × 23 columns</p>\n",
       "</div>"
      ],
      "text/plain": [
       "         Host                 Date  CPU1_Temp BMC_Health_Status  Memory_Usage  \\\n",
       "0  10.101.1.2  2019-08-14:11:59:00       74.0                OK        66.212   \n",
       "1  10.101.1.2  2019-08-14:11:58:00       75.0                OK        66.213   \n",
       "2  10.101.1.2  2019-08-14:11:57:00       75.0                OK        66.214   \n",
       "3  10.101.1.2  2019-08-14:11:56:00       76.0                OK        66.208   \n",
       "4  10.101.1.2  2019-08-14:11:55:00       74.0                OK        66.208   \n",
       "\n",
       "   Available_Memory  Total_Memory CPU_Health  CPU_Usage FAN_1_Health  ...  \\\n",
       "0           125.696       191.908         OK   0.796528           OK  ...   \n",
       "1           125.695       191.908         OK   0.785417           OK  ...   \n",
       "2           125.694       191.908         OK   0.754167           OK  ...   \n",
       "3           125.700       191.908         OK   0.772222           OK  ...   \n",
       "4           125.700       191.908         OK   0.772222           OK  ...   \n",
       "\n",
       "  FAN_1_Speed FAN_2_Speed FAN_3_Speed  FAN_4_Speed  Memory_Health_Status  \\\n",
       "0     11340.0     11340.0     11480.0      11480.0                    OK   \n",
       "1     11270.0     11270.0     11270.0      11270.0                    OK   \n",
       "2     10850.0     10850.0     10850.0      10920.0                    OK   \n",
       "3     10850.0     10920.0     10920.0      10920.0                    OK   \n",
       "4     10710.0     10850.0     10850.0      10920.0                    OK   \n",
       "\n",
       "   Power_State  Power_Available_Watts Power_Capacity_Watts  \\\n",
       "0           On                    0.0                560.0   \n",
       "1           On                    0.0                560.0   \n",
       "2           On                    0.0                560.0   \n",
       "3           On                    0.0                560.0   \n",
       "4           On                    0.0                560.0   \n",
       "\n",
       "  Power_Requested_Watts  Power_Usage_Watts  \n",
       "0                 430.0              336.0  \n",
       "1                 430.0              340.0  \n",
       "2                 430.0              325.0  \n",
       "3                 430.0              330.0  \n",
       "4                 430.0              346.0  \n",
       "\n",
       "[5 rows x 23 columns]"
      ]
     },
     "execution_count": 2,
     "metadata": {},
     "output_type": "execute_result"
    }
   ],
   "source": [
    "df.head()"
   ]
  },
  {
   "cell_type": "code",
   "execution_count": 3,
   "metadata": {},
   "outputs": [
    {
     "data": {
      "text/plain": [
       "Index(['Host', 'Date', 'CPU1_Temp', 'BMC_Health_Status', 'Memory_Usage',\n",
       "       'Available_Memory', 'Total_Memory', 'CPU_Health', 'CPU_Usage',\n",
       "       'FAN_1_Health', 'FAN_2_Health', 'FAN_3_Health', 'FAN_4_Health',\n",
       "       'FAN_1_Speed', 'FAN_2_Speed', 'FAN_3_Speed', 'FAN_4_Speed',\n",
       "       'Memory_Health_Status', 'Power_State', 'Power_Available_Watts',\n",
       "       'Power_Capacity_Watts', 'Power_Requested_Watts', 'Power_Usage_Watts'],\n",
       "      dtype='object')"
      ]
     },
     "execution_count": 3,
     "metadata": {},
     "output_type": "execute_result"
    }
   ],
   "source": [
    "df.columns"
   ]
  },
  {
   "cell_type": "code",
   "execution_count": 4,
   "metadata": {},
   "outputs": [
    {
     "data": {
      "text/plain": [
       "(192425, 23)"
      ]
     },
     "execution_count": 4,
     "metadata": {},
     "output_type": "execute_result"
    }
   ],
   "source": [
    "df.shape"
   ]
  },
  {
   "cell_type": "code",
   "execution_count": 5,
   "metadata": {},
   "outputs": [],
   "source": [
    "unsued_Columns = ['Host','CPU_Health','BMC_Health_Status','FAN_1_Health','FAN_2_Health','FAN_3_Health','FAN_4_Health','Memory_Health_Status','Power_State','Power_Available_Watts']\n",
    "df.drop(unsued_Columns, axis=1, inplace=True)"
   ]
  },
  {
   "cell_type": "code",
   "execution_count": 6,
   "metadata": {},
   "outputs": [],
   "source": [
    "df.Date = pd.to_datetime(df.Date,format='%Y-%m-%d:%H:%M:%S')"
   ]
  },
  {
   "cell_type": "code",
   "execution_count": 7,
   "metadata": {},
   "outputs": [
    {
     "data": {
      "text/plain": [
       "<matplotlib.axes._subplots.AxesSubplot at 0x1f88e7921c8>"
      ]
     },
     "execution_count": 7,
     "metadata": {},
     "output_type": "execute_result"
    },
    {
     "data": {
      "image/png": "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\n",
      "text/plain": [
       "<Figure size 432x288 with 1 Axes>"
      ]
     },
     "metadata": {
      "needs_background": "light"
     },
     "output_type": "display_data"
    }
   ],
   "source": [
    "C=df[['Date','CPU1_Temp']]\n",
    "C.set_index('Date').plot()"
   ]
  },
  {
   "cell_type": "code",
   "execution_count": 8,
   "metadata": {},
   "outputs": [
    {
     "name": "stderr",
     "output_type": "stream",
     "text": [
      "C:\\Users\\ajadhav\\AppData\\Local\\Continuum\\anaconda3\\lib\\site-packages\\pandas\\core\\frame.py:4102: SettingWithCopyWarning: \n",
      "A value is trying to be set on a copy of a slice from a DataFrame\n",
      "\n",
      "See the caveats in the documentation: http://pandas.pydata.org/pandas-docs/stable/user_guide/indexing.html#returning-a-view-versus-a-copy\n",
      "  errors=errors,\n"
     ]
    },
    {
     "data": {
      "text/plain": [
       "<matplotlib.image.AxesImage at 0x1f88ed1cf08>"
      ]
     },
     "execution_count": 8,
     "metadata": {},
     "output_type": "execute_result"
    },
    {
     "data": {
      "image/png": "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\n",
      "text/plain": [
       "<Figure size 1152x144 with 1 Axes>"
      ]
     },
     "metadata": {
      "needs_background": "light"
     },
     "output_type": "display_data"
    }
   ],
   "source": [
    "C.index = C.Date\n",
    "C.drop('Date',axis=1,inplace= True)\n",
    "C = C.T\n",
    "plt.matshow(C, interpolation=None, aspect='auto')"
   ]
  },
  {
   "cell_type": "code",
   "execution_count": 9,
   "metadata": {},
   "outputs": [],
   "source": [
    "df['Month'] = df.Date.dt.month\n",
    "df['Day'] = df.Date.dt.day\n",
    "df['Hour'] = df.Date.dt.hour\n",
    "#df.drop('Date',axis=1,inplace=True)"
   ]
  },
  {
   "cell_type": "code",
   "execution_count": 10,
   "metadata": {},
   "outputs": [],
   "source": [
    "df = df.fillna(method='ffill')"
   ]
  },
  {
   "cell_type": "code",
   "execution_count": 11,
   "metadata": {},
   "outputs": [],
   "source": [
    "from sklearn.model_selection import train_test_split\n",
    "\n",
    "X_train, X_test, y_train, y_test = train_test_split(df.drop('CPU1_Temp',axis=1), df.CPU1_Temp , test_size=0.33, random_state=42)"
   ]
  },
  {
   "cell_type": "code",
   "execution_count": 12,
   "metadata": {},
   "outputs": [],
   "source": [
    "test_dates = X_test.Date\n",
    "X_test.drop('Date',axis=1,inplace=True)\n",
    "X_train.drop('Date',axis=1,inplace=True)\n"
   ]
  },
  {
   "cell_type": "code",
   "execution_count": 13,
   "metadata": {},
   "outputs": [
    {
     "name": "stderr",
     "output_type": "stream",
     "text": [
      "C:\\Users\\ajadhav\\AppData\\Local\\Continuum\\anaconda3\\lib\\site-packages\\sklearn\\ensemble\\forest.py:245: FutureWarning: The default value of n_estimators will change from 10 in version 0.20 to 100 in 0.22.\n",
      "  \"10 in version 0.20 to 100 in 0.22.\", FutureWarning)\n"
     ]
    },
    {
     "data": {
      "text/plain": [
       "1.1863720545926841"
      ]
     },
     "execution_count": 13,
     "metadata": {},
     "output_type": "execute_result"
    }
   ],
   "source": [
    "#Random Forest\n",
    "from sklearn.ensemble import RandomForestRegressor\n",
    "rf = RandomForestRegressor()\n",
    "rf.fit(X_train,y_train)\n",
    "y_pred_rf = rf.predict(X_test)\n",
    "\n",
    "import numpy as np\n",
    "from sklearn.metrics import mean_squared_error\n",
    "np.sqrt(mean_squared_error(y_pred_rf, y_test))"
   ]
  },
  {
   "cell_type": "code",
   "execution_count": 14,
   "metadata": {},
   "outputs": [],
   "source": [
    "# #SVR\n",
    "# from sklearn.svm import SVR\n",
    "# clf = SVR(C=1.0, epsilon=0.2)\n",
    "# clf.fit(X_train,y_train)\n",
    "# y_pred_svm = clf.predict(X_test)\n",
    "# np.sqrt(mean_squared_error(y_pred_svm, y_test))\n"
   ]
  },
  {
   "cell_type": "code",
   "execution_count": 15,
   "metadata": {},
   "outputs": [
    {
     "data": {
      "text/plain": [
       "<matplotlib.axes._subplots.AxesSubplot at 0x1f8a7907588>"
      ]
     },
     "execution_count": 15,
     "metadata": {},
     "output_type": "execute_result"
    },
    {
     "data": {
      "image/png": "iVBORw0KGgoAAAANSUhEUgAAAYYAAAEMCAYAAADAqxFbAAAABHNCSVQICAgIfAhkiAAAAAlwSFlzAAALEgAACxIB0t1+/AAAADh0RVh0U29mdHdhcmUAbWF0cGxvdGxpYiB2ZXJzaW9uMy4xLjEsIGh0dHA6Ly9tYXRwbG90bGliLm9yZy8QZhcZAAAgAElEQVR4nOx9d9wkRZ3+Ux1m5s2bM+wuS06ScxARFROeAe9ORT3vx3mGM5x63pkwnPlU9FBBRVBAEQ4VBEEliLAg7JJWNrC77LKBjW9OM9Ohfn9UVXdVdXVPz7yzvLvLPJ8P7Ds93dU13VX1recbCaUULbTQQgsttCBgTXYHWmihhRZa2LvQEgwttNBCCy0oaAmGFlpooYUWFLQEQwsttNBCCwpagqGFFlpooQUFzmR3YKKYMWMGXbRo0WR3o4UWWmhhn8Ly5ct3U0pnmr7b5wXDokWLsGzZssnuRgsttNDCPgVCyHNp37VUSS200EILLShoCYYWWmihhRYUtARDCy200EILClqCoYUWWmihBQUtwdBCCy200IKClmBooYUWWmhBQUswtNBCC3XhwXW78eU7VmHtjuHJ7koLewgtwdBC8xB4wLWvBzb9dbJ70sIexC9/dyfu/8t9uP6vmya7Ky3sIbQEQwvNw8AmYMOfgd+8d7J70sIexPcG3o87i5+E51Unuyst7CHs85HPLexFaBV92r+x8UFUy6Mo8I+H990L4PjJ7FELewgtwdBC0+AFAVwAZT9EabI700Lzcc2rI6EAAAtHn5y0rrSwZ9FSJbXQNGwfHAcA7BxuqRheDLCDymR3oYU9hJZgaKGFFhqCHZYbu3C8H3huKbD8mqb2p4XmoaVK2k9Q9gK4tgXbIpPWBxrZGCavDy9GVPwAALC7tw/zZxuzKNeF0UdvgHP4K1Hsmp56zvPWPCysPNPYDb62KP77xHc11kYLexQtxrCf4PDP3ImP3PjEpPZByAXaEgwvKA779J340uc+ivk/OBi33vfQhNoa27kBHbf/K9Z+7+8S3/XTzujvNozDos